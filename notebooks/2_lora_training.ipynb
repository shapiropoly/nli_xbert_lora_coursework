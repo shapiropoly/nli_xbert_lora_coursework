{
 "cells": [
  {
   "metadata": {},
   "cell_type": "code",
   "outputs": [],
   "execution_count": null,
   "source": "!pip uninstall -y sentence-transformers spacy thinc catalogue cymem preshed blis srsly",
   "id": "6af2ba9f82a26168"
  },
  {
   "metadata": {},
   "cell_type": "code",
   "outputs": [],
   "execution_count": null,
   "source": [
    "!pip uninstall -y numpy\n",
    "!rm -rf /usr/local/lib/python*/dist-packages/numpy*"
   ],
   "id": "320e6b41729973e6"
  },
  {
   "metadata": {},
   "cell_type": "code",
   "outputs": [],
   "execution_count": null,
   "source": "!pip install -q kaggle",
   "id": "27f85b06ea193438"
  },
  {
   "metadata": {},
   "cell_type": "code",
   "outputs": [],
   "execution_count": null,
   "source": [
    "!pip install -q numpy==1.26.4 \\\n",
    "               transformers==4.52.2 \\\n",
    "               peft==0.11.0 \\\n",
    "               datasets accelerate bitsandbytes"
   ],
   "id": "4f42df1e5199509"
  },
  {
   "metadata": {},
   "cell_type": "code",
   "outputs": [],
   "execution_count": null,
   "source": [
    "import numpy, transformers, peft, datasets         # версии которые нужны:\n",
    "print(\"NumPy:\", numpy.__version__)                 # 1.26.4\n",
    "print(\"Transformers:\", transformers.__version__)   # 4.52.2\n",
    "print(\"peft:\", peft.__version__)                   # 0.11.0\n",
    "print(\"datasets:\", datasets.__version__)           # ≥ 2.14"
   ],
   "id": "fc98de53ca781b71"
  },
  {
   "metadata": {},
   "cell_type": "code",
   "outputs": [],
   "execution_count": null,
   "source": [
    "DATA_DIR = \"data/cmdw/\"\n",
    "MODEL_NAME = \"bert-base-multilingual-cased\""
   ],
   "id": "126be8e49811ff47"
  },
  {
   "metadata": {},
   "cell_type": "code",
   "outputs": [],
   "execution_count": null,
   "source": [
    "os.makedirs('/root/.kaggle', exist_ok=True)\n",
    "!mv kaggle.json /root/.kaggle/\n",
    "!chmod 600 /root/.kaggle/kaggle.json"
   ],
   "id": "b1a94129adcab0b4"
  },
  {
   "metadata": {},
   "cell_type": "code",
   "outputs": [],
   "execution_count": null,
   "source": [
    "!kaggle competitions download -c contradictory-my-dear-watson -p data\n",
    "\n",
    "!unzip -q data/contradictory-my-dear-watson.zip -d data/cmdw"
   ],
   "id": "625df891ce336c73"
  },
  {
   "metadata": {},
   "cell_type": "code",
   "outputs": [],
   "execution_count": null,
   "source": [
    "if os.path.exists(DATA_DIR):\n",
    "    print(\"Файлы:\")\n",
    "    for f in os.listdir(DATA_DIR):\n",
    "        print(\" -\", f)\n",
    "else:\n",
    "    print(\"Папка не найдена\")"
   ],
   "id": "e00de7e7a390fe19"
  },
  {
   "metadata": {},
   "cell_type": "code",
   "outputs": [],
   "execution_count": null,
   "source": [
    "df = pd.read_csv(DATA_DIR + \"train.csv\")\n",
    "print(df.columns)"
   ],
   "id": "aa18d35e943c44c6"
  },
  {
   "metadata": {},
   "cell_type": "code",
   "outputs": [],
   "execution_count": null,
   "source": [
    "from datasets import load_dataset, Dataset\n",
    "from sklearn.model_selection import train_test_split\n",
    "from transformers import AutoTokenizer"
   ],
   "id": "6aa9e5a0d82bde30"
  },
  {
   "metadata": {},
   "cell_type": "code",
   "outputs": [],
   "execution_count": null,
   "source": [
    "df = pd.read_csv(DATA_DIR + \"train.csv\")\n",
    "\n",
    "train_df, val_df = train_test_split(df, test_size=0.3, random_state=42)\n",
    "\n",
    "train_ds = Dataset.from_pandas(train_df)\n",
    "val_ds   = Dataset.from_pandas(val_df)"
   ],
   "id": "9d084fd443e0e986"
  },
  {
   "metadata": {},
   "cell_type": "code",
   "outputs": [],
   "execution_count": null,
   "source": [
    "tokenizer = AutoTokenizer.from_pretrained(MODEL_NAME)\n",
    "\n",
    "def tokenize(example):\n",
    "    return tokenizer(example[\"premise\"], example[\"hypothesis\"],\n",
    "                     truncation=True, padding=\"max_length\", max_length=128)\n",
    "\n",
    "train_ds = train_ds.map(tokenize, batched=True)\n",
    "val_ds   = val_ds.map(tokenize, batched=True)"
   ],
   "id": "c6022ea72d2af38b"
  },
  {
   "metadata": {},
   "cell_type": "code",
   "outputs": [],
   "execution_count": null,
   "source": [
    "train_ds = train_ds.rename_column(\"label\", \"labels\")\n",
    "val_ds   = val_ds.rename_column(\"label\", \"labels\")\n",
    "\n",
    "train_ds.set_format(\"torch\", columns=[\"input_ids\", \"attention_mask\", \"labels\"])\n",
    "val_ds.set_format(\"torch\", columns=[\"input_ids\", \"attention_mask\", \"labels\"])"
   ],
   "id": "d61d29689531aab1"
  },
  {
   "metadata": {},
   "cell_type": "code",
   "outputs": [],
   "execution_count": null,
   "source": [
    "from transformers import AutoTokenizer, AutoModelForSequenceClassification\n",
    "from peft import LoraConfig, get_peft_model, TaskType\n",
    "\n",
    "base_model = AutoModelForSequenceClassification.from_pretrained(\n",
    "    MODEL_NAME,\n",
    "    num_labels=3,\n",
    ")\n",
    "\n",
    "lora_cfg = LoraConfig(\n",
    "    r=16,\n",
    "    lora_alpha=16,\n",
    "    target_modules=[\"query\", \"value\"],\n",
    "    lora_dropout=0.05,\n",
    "    bias=\"none\",\n",
    "    task_type=TaskType.SEQ_CLS,\n",
    ")\n",
    "\n",
    "model = get_peft_model(base_model, lora_cfg)\n",
    "model.print_trainable_parameters()\n"
   ],
   "id": "d0e6340c74c0a50"
  },
  {
   "metadata": {},
   "cell_type": "code",
   "outputs": [],
   "execution_count": null,
   "source": [
    "from transformers import TrainingArguments, Trainer\n",
    "import torch\n",
    "\n",
    "BATCH = 8\n",
    "LORA_EPOCHS = 3\n",
    "\n",
    "args = TrainingArguments(\n",
    "    output_dir=\"/content/lora_ckpt\",\n",
    "    per_device_train_batch_size=BATCH,\n",
    "    per_device_eval_batch_size=BATCH,\n",
    "    learning_rate=5e-5,\n",
    "    num_train_epochs=LORA_EPOCHS,\n",
    "    eval_strategy=\"epoch\",\n",
    "    save_strategy=\"epoch\",\n",
    "    fp16=torch.cuda.is_available(),\n",
    "    gradient_accumulation_steps=2,\n",
    "    logging_steps=100,\n",
    "    report_to=\"none\",\n",
    ")"
   ],
   "id": "a7c98eb5a3b9ba0a"
  },
  {
   "metadata": {},
   "cell_type": "code",
   "outputs": [],
   "execution_count": null,
   "source": [
    "trainer = Trainer(\n",
    "    model=model,\n",
    "    args=args,\n",
    "    train_dataset=train_ds,\n",
    "    eval_dataset=val_ds\n",
    "    )\n",
    "\n",
    "trainer.train()"
   ],
   "id": "a7f354abd53ae517"
  },
  {
   "metadata": {},
   "cell_type": "code",
   "outputs": [],
   "execution_count": null,
   "source": [
    "ADAPTER_DIR = DATA_DIR + \"lora_nli_mbert\"\n",
    "model.save_pretrained(ADAPTER_DIR)\n",
    "\n",
    "from peft import PeftModel\n",
    "merged = PeftModel.from_pretrained(base_model, ADAPTER_DIR).merge_and_unload()\n",
    "MERGED_DIR = DATA_DIR + \"merged-mbert-nli\"\n",
    "merged.save_pretrained(MERGED_DIR)"
   ],
   "id": "2c6ca20767f1bd2d"
  },
  {
   "metadata": {},
   "cell_type": "code",
   "outputs": [],
   "execution_count": null,
   "source": [
    "device = next(merged.parameters()).device\n",
    "sample = tokenizer(\n",
    "    \"Cats are animals.\",\n",
    "    \"A cat is a living being.\",\n",
    "    return_tensors=\"pt\"\n",
    ").to(device)\n",
    "\n",
    "probs = merged(**sample).logits.softmax(-1)[0]\n",
    "labels = [\"Entailment\", \"Neutral\", \"Contradiction\"]\n",
    "print(\"Предсказание:\", labels[probs.argmax()], \"| conf:\", float(probs.max()))"
   ],
   "id": "1ce20e7f70f14c6e"
  },
  {
   "metadata": {},
   "cell_type": "code",
   "outputs": [],
   "execution_count": null,
   "source": [
    "from huggingface_hub import HfApi\n",
    "\n",
    "api = HfApi()\n",
    "\n",
    "REPO_ID = \"shapiropoly/merged-mbert-nli\"\n",
    "\n",
    "HfApi().upload_folder(\n",
    "    folder_path=MERGED_DIR,\n",
    "    repo_id=REPO_ID,\n",
    "    repo_type=\"model\"\n",
    ")"
   ],
   "id": "3fa9c00936a17303"
  }
 ],
 "metadata": {
  "kernelspec": {
   "display_name": "Python 3",
   "language": "python",
   "name": "python3"
  },
  "language_info": {
   "codemirror_mode": {
    "name": "ipython",
    "version": 2
   },
   "file_extension": ".py",
   "mimetype": "text/x-python",
   "name": "python",
   "nbconvert_exporter": "python",
   "pygments_lexer": "ipython2",
   "version": "2.7.6"
  }
 },
 "nbformat": 4,
 "nbformat_minor": 5
}
